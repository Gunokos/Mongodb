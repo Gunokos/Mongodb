{
 "cells": [
  {
   "cell_type": "code",
   "execution_count": 1,
   "metadata": {},
   "outputs": [],
   "source": [
    "import pymongo\n",
    "from pymongo import MongoClient\n",
    "client = MongoClient(\"localhost\", 27017) #On se connecte a MongoDB"
   ]
  },
  {
   "cell_type": "code",
   "execution_count": 7,
   "metadata": {},
   "outputs": [
    {
     "name": "stdout",
     "output_type": "stream",
     "text": [
      "\n",
      "Liste des base de données\n",
      "admin\n",
      "config\n",
      "local\n"
     ]
    }
   ],
   "source": [
    "#Affiche la liste des bases de données\n",
    "print(\"\\nListe des base de données\")\n",
    "for name in client.list_database_names():\n",
    "    print(name)"
   ]
  },
  {
   "cell_type": "raw",
   "metadata": {},
   "source": [
    "# Créer 1è DB \"metflix\" qui contient 1collection \"movies\" dans laquelle vs inserez les documents suivants : Comparer le comportement du shell Mongo et Python "
   ]
  },
  {
   "cell_type": "code",
   "execution_count": 9,
   "metadata": {},
   "outputs": [],
   "source": [
    "# Permet de créer une base de donnée nommé metflix\n",
    "metflix = client[\"metflix\"]"
   ]
  },
  {
   "cell_type": "code",
   "execution_count": 10,
   "metadata": {},
   "outputs": [],
   "source": [
    "# Permet de crée une collection dans la base de donnée metflix nommée \"movies\"\n",
    "collection = metflix[\"movies\"]"
   ]
  },
  {
   "cell_type": "code",
   "execution_count": 11,
   "metadata": {},
   "outputs": [],
   "source": [
    "# Permet de créer un dictionnaire\n",
    "mydico = { \"title\" : \"Rocky\" , \"year\" : 1976 , \"_id\" : \"tt0075148\" }"
   ]
  },
  {
   "cell_type": "code",
   "execution_count": 12,
   "metadata": {},
   "outputs": [
    {
     "name": "stdout",
     "output_type": "stream",
     "text": [
      "<pymongo.results.InsertOneResult object at 0x00000201C236C640>\n"
     ]
    }
   ],
   "source": [
    "# Permet d'insérer un dictionnaire dans une collection\n",
    "x = collection.insert_one(mydico)"
   ]
  },
  {
   "cell_type": "code",
   "execution_count": 13,
   "metadata": {},
   "outputs": [
    {
     "name": "stdout",
     "output_type": "stream",
     "text": [
      "{'_id': 'tt0075148', 'title': 'Rocky', 'year': 1976}\n"
     ]
    }
   ],
   "source": [
    "# Permet d'afficher le contenus d'une collection\n",
    "for y in collection.find():\n",
    "    print(y)"
   ]
  },
  {
   "cell_type": "code",
   "execution_count": 14,
   "metadata": {},
   "outputs": [],
   "source": [
    "mydico2 = {\"Prénom\" : \"Gérard\",\"Nom\":\"Ngindu\"}"
   ]
  },
  {
   "cell_type": "code",
   "execution_count": 15,
   "metadata": {},
   "outputs": [],
   "source": [
    "user = metflix[\"users\"]"
   ]
  },
  {
   "cell_type": "code",
   "execution_count": 23,
   "metadata": {},
   "outputs": [],
   "source": [
    "client.drop_database(\"metflix\")"
   ]
  },
  {
   "cell_type": "code",
   "execution_count": 24,
   "metadata": {},
   "outputs": [],
   "source": [
    "metflix = client[\"metflix\"]"
   ]
  },
  {
   "cell_type": "code",
   "execution_count": 25,
   "metadata": {},
   "outputs": [],
   "source": [
    "client.drop_database(\"collection\")"
   ]
  },
  {
   "cell_type": "code",
   "execution_count": 26,
   "metadata": {},
   "outputs": [],
   "source": [
    "coll = metflix[\"movies\"]"
   ]
  },
  {
   "cell_type": "code",
   "execution_count": 28,
   "metadata": {},
   "outputs": [
    {
     "name": "stdout",
     "output_type": "stream",
     "text": [
      "Erreur Insertion\n"
     ]
    }
   ],
   "source": [
    "#Permet de créer un dictionnaire avec plusieurs entrée, si un id existe déja\n",
    "# Il affichera \"Erreur Insertion\"\n",
    "Malist = [{ \"title\" : \"Rocky\", \"year\" : 1976, \"_id\" : \"tt0075148\"},\n",
    "          { \"title\": \"Jaws\", \"year\" : 1975, \"_id\" : \"tt0073195\"},\n",
    "          { \"title\": \"Mad Max 2\", \"year\" : 1981, \"_id\" : \"tt0082694\"},\n",
    "          { \"title\": \"Raiders of the Lost Ark\", \"year\" : 1981, \"_id\" : \"tt0082971\"}\n",
    "         ]\n",
    "try:\n",
    "    x = coll.insert_many(Malist)\n",
    "except:\n",
    "    print(\"Erreur Insertion\")"
   ]
  },
  {
   "cell_type": "code",
   "execution_count": 32,
   "metadata": {},
   "outputs": [
    {
     "name": "stdout",
     "output_type": "stream",
     "text": [
      "\n",
      "Affiche tous les documents de la collection 'movie':\n",
      "{'_id': 'tt0075148', 'title': 'Rocky', 'year': 1976}\n",
      "{'_id': 'tt0073195', 'title': 'Jaws', 'year': 1975}\n",
      "{'_id': 'tt0082694', 'title': 'Mad Max 2', 'year': 1981}\n",
      "{'_id': 'tt0082971', 'title': 'Raiders of the Lost Ark', 'year': 1981}\n"
     ]
    }
   ],
   "source": [
    "print(\"\\nAffiche tous les documents de la collection 'movie':\")\n",
    "for y in coll.find():\n",
    "    print(y)"
   ]
  },
  {
   "cell_type": "code",
   "execution_count": 33,
   "metadata": {},
   "outputs": [
    {
     "name": "stdout",
     "output_type": "stream",
     "text": [
      "Affiche le premier document de la collection 'movie':\n",
      "{'_id': 'tt0075148', 'title': 'Rocky', 'year': 1976}\n"
     ]
    }
   ],
   "source": [
    "print(\"Affiche le premier document de la collection 'movie':\")\n",
    "x = coll.find_one()\n",
    "print(x)"
   ]
  },
  {
   "cell_type": "code",
   "execution_count": 34,
   "metadata": {},
   "outputs": [
    {
     "name": "stdout",
     "output_type": "stream",
     "text": [
      "Affiche les documents ou on trouve les films produits en 1981:\n",
      "{'_id': 'tt0082694', 'title': 'Mad Max 2', 'year': 1981}\n",
      "{'_id': 'tt0082971', 'title': 'Raiders of the Lost Ark', 'year': 1981}\n"
     ]
    }
   ],
   "source": [
    "print(\"Affiche les documents ou on trouve les films produits en 1981:\")\n",
    "Proposition = { \"year\": 1981 }\n",
    "Reponse2 =coll.find(Proposition)\n",
    "for x in Reponse2:\n",
    "  print(x)"
   ]
  },
  {
   "cell_type": "code",
   "execution_count": 35,
   "metadata": {},
   "outputs": [
    {
     "name": "stdout",
     "output_type": "stream",
     "text": [
      "Affiche les documents ou on trouve le film qui porte le titre 'Jaws':\n",
      "{'_id': 'tt0073195', 'title': 'Jaws', 'year': 1975}\n"
     ]
    }
   ],
   "source": [
    "print(\"Affiche les documents ou on trouve le film qui porte le titre 'Jaws':\")\n",
    "Proposition = { \"title\": \"Jaws\" }\n",
    "Reponse2 =coll.find(Proposition)\n",
    "for x in Reponse2:\n",
    "  print(x)"
   ]
  },
  {
   "cell_type": "raw",
   "metadata": {},
   "source": [
    "Q : Créer une DB movies_artists avec deux collections : une pour les films et l’autre pour les artistes"
   ]
  },
  {
   "cell_type": "code",
   "execution_count": 36,
   "metadata": {},
   "outputs": [],
   "source": [
    "import json"
   ]
  },
  {
   "cell_type": "code",
   "execution_count": 42,
   "metadata": {},
   "outputs": [],
   "source": [
    "movies_artists = client[\"movies_artists\"]"
   ]
  },
  {
   "cell_type": "code",
   "execution_count": 43,
   "metadata": {},
   "outputs": [],
   "source": [
    "films = movies_artists[\"film\"]\n",
    "artistes = movies_artists[\"artiste\"]"
   ]
  },
  {
   "cell_type": "code",
   "execution_count": 51,
   "metadata": {},
   "outputs": [
    {
     "name": "stdout",
     "output_type": "stream",
     "text": [
      "\n",
      " On affiche le contenus de la collections FILM\n",
      "{'_id': 'movie:92',\n",
      " 'actors': [],\n",
      " 'country': 'FR',\n",
      " 'director': {'_id': 'artist:281'},\n",
      " 'genre': 'drama',\n",
      " 'summary': 'D’un petit village du sud de l’Iran aux cités parisiennes, '\n",
      "            'Kheiron nous raconte le destin hors du commun de ses parents '\n",
      "            'Hibat et Fereshteh, éternels optimistes, dans une comédie aux '\n",
      "            'airs de conte universel qui évoque l’amour familial, le don de '\n",
      "            'soi et surtout l’idéal d’un vivre-ensemble. ',\n",
      " 'title': 'Nous trois ou rien',\n",
      " 'year': 2015}\n",
      "{'_id': 'movie:91',\n",
      " 'actors': [{'_id': 'artist:279', 'role': 'Malik El Djebena '},\n",
      "            {'_id': 'artist:280', 'role': 'César Luciani'}],\n",
      " 'country': 'FR',\n",
      " 'director': {'_id': 'artist:278'},\n",
      " 'genre': 'drama',\n",
      " 'summary': 'Condamné à six ans de prison, Malik El Djebena ne sait ni lire, '\n",
      "            'ni écrire. A son arrivée en Centrale, seul au monde, il paraît '\n",
      "            'plus jeune, plus fragile que les autres détenus. Il a 19 ans. '\n",
      "            \"D'emblée, il tombe sous la coupe d'un groupe de prisonniers \"\n",
      "            'corses qui fait régner sa loi dans la prison. Le jeune homme '\n",
      "            'apprend vite. Au fil des \" missions \", il s\\'endurcit et gagne la '\n",
      "            'confiance des Corses.Mais, très vite, Malik utilise toute son '\n",
      "            'intelligence pour développer discrètement son propre réseau...',\n",
      " 'title': 'Un prophète',\n",
      " 'year': 2009}\n",
      "{'_id': 'movie:90',\n",
      " 'actors': [{'_id': 'artist:22', 'role': 'Lucius Fox'},\n",
      "            {'_id': 'artist:116', 'role': 'Commissioner Gordon'},\n",
      "            {'_id': 'artist:268', 'role': 'Selina'},\n",
      "            {'_id': 'artist:269', 'role': 'Alfred'},\n",
      "            {'_id': 'artist:271', 'role': 'Miranda'},\n",
      "            {'_id': 'artist:274', 'role': 'Bruce Wayne / Batman'}],\n",
      " 'country': 'USA',\n",
      " 'director': {'_id': 'artist:266'},\n",
      " 'genre': 'Science-fiction',\n",
      " 'summary': 'Il y a huit ans, Batman a disparu dans la nuit : lui qui était un '\n",
      "            \"héros est alors devenu un fugitif. S'accusant de la mort du \"\n",
      "            'procureur-adjoint Harvey Dent, le Chevalier Noir a tout sacrifié '\n",
      "            'au last_name de ce que le commissaire Gordon et lui-même '\n",
      "            'considéraient être une noble cause. Et leurs actions conjointes '\n",
      "            'se sont avérées efficaces pour un temps puisque la criminalité a '\n",
      "            \"été éradiquée à Gotham City grâce à l'arsenal de lois répressif \"\n",
      "            \"initié par Dent.Mais c'est un chat – aux intentions obscures – \"\n",
      "            'aussi rusé que voleur qui va tout bouleverser. À moins que ce ne '\n",
      "            \"soit l'arrivée à Gotham de Bane, terroriste masqué, qui compte \"\n",
      "            \"bien arracher Bruce à l'exil qu'il s'est imposé. Pourtant, même \"\n",
      "            'si ce dernier est prêt à endosser de nouveau la cape et le casque '\n",
      "            \"du Chevalier Noir, Batman n'est peut-être plus de taille à \"\n",
      "            'affronter Bane…',\n",
      " 'title': 'The Dark Knight Rises',\n",
      " 'year': 2012}\n"
     ]
    }
   ],
   "source": [
    "from pprint import pprint #permet d'avoir un affichage plus propre,remplace le pretty()\n",
    "# Permet d'afficher le contenus d'une collection\n",
    "print(\"\\n On affiche le contenus de la collections FILM\")\n",
    "for y in films.find():\n",
    "    pprint(y)"
   ]
  },
  {
   "cell_type": "code",
   "execution_count": 52,
   "metadata": {},
   "outputs": [
    {
     "name": "stdout",
     "output_type": "stream",
     "text": [
      "\n",
      " On affiche le contenus de la collections FILM\n",
      "{'title': 'Nous trois ou rien'}\n",
      "{'title': 'The Dark Knight Rises'}\n",
      "{'title': 'Un prophète'}\n"
     ]
    }
   ],
   "source": [
    "# Permet d'afficher maximum 12 nom de film et de les trier par film croissant\n",
    "print(\"\\n On affiche 12 film maximum\")\n",
    "for y in films.find({},{\"_id\":0, \"title\":1}).limit(12).sort(\"title\",1):\n",
    "    pprint(y)"
   ]
  },
  {
   "cell_type": "code",
   "execution_count": 54,
   "metadata": {},
   "outputs": [
    {
     "name": "stdout",
     "output_type": "stream",
     "text": [
      "\n",
      " On affiche 12 film maximum\n",
      "{'title': 'Un prophète'}\n",
      "{'title': 'The Dark Knight Rises'}\n",
      "{'title': 'Nous trois ou rien'}\n"
     ]
    }
   ],
   "source": [
    "# Permet d'afficher maximum 12 nom de film et de les trier par film decroissant\n",
    "print(\"\\n On affiche 12 film maximum\")\n",
    "for y in films.find({},{\"_id\":0, \"title\":1}).limit(12).sort(\"title\",-1):\n",
    "    pprint(y)"
   ]
  },
  {
   "cell_type": "code",
   "execution_count": 57,
   "metadata": {},
   "outputs": [
    {
     "name": "stdout",
     "output_type": "stream",
     "text": [
      "artiste\n",
      "film\n"
     ]
    }
   ],
   "source": [
    "for name in movies_artists.list_collection_names():\n",
    "    print(name)"
   ]
  }
 ],
 "metadata": {
  "kernelspec": {
   "display_name": "Python 3",
   "language": "python",
   "name": "python3"
  },
  "language_info": {
   "codemirror_mode": {
    "name": "ipython",
    "version": 3
   },
   "file_extension": ".py",
   "mimetype": "text/x-python",
   "name": "python",
   "nbconvert_exporter": "python",
   "pygments_lexer": "ipython3",
   "version": "3.8.3"
  }
 },
 "nbformat": 4,
 "nbformat_minor": 4
}
