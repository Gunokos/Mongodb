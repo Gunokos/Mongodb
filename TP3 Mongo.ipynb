{
 "cells": [
  {
   "cell_type": "code",
   "execution_count": 1,
   "metadata": {},
   "outputs": [],
   "source": [
    "import pymongo\n",
    "from pprint import pprint\n",
    "from pymongo import MongoClient\n",
    "client = MongoClient(\"localhost\", 27017) #On se connecte a MongoDB"
   ]
  },
  {
   "cell_type": "code",
   "execution_count": 2,
   "metadata": {},
   "outputs": [],
   "source": [
    "db_agg = client[\"db_agg\"]"
   ]
  },
  {
   "cell_type": "code",
   "execution_count": 3,
   "metadata": {},
   "outputs": [],
   "source": [
    "website = db_agg[\"website\"]"
   ]
  },
  {
   "cell_type": "code",
   "execution_count": 7,
   "metadata": {},
   "outputs": [
    {
     "data": {
      "text/plain": [
       "{'_id': 10, 'domainName': 'test10.com', 'hosting': 'godaddy.com'}"
      ]
     },
     "execution_count": 7,
     "metadata": {},
     "output_type": "execute_result"
    }
   ],
   "source": [
    "dico = { \"_id\" : 1, \"domainName\" : \"test1.com\", \"hosting\" : \"hostgator.com\" },\n",
    "{ \"_id\" : 2, \"domainName\" : \"test2.com\", \"hosting\" : \"aws.amazon.com\"},\n",
    "{ \"_id\" : 3, \"domainName\" : \"test3.com\", \"hosting\" : \"aws.amazon.com\" },\n",
    "{ \"_id\" : 4, \"domainName\" : \"test4.com\", \"hosting\" : \"hostgator.com\" },\n",
    "{ \"_id\" : 5, \"domainName\" : \"test5.com\", \"hosting\" : \"aws.amazon.com\" },\n",
    "{ \"_id\" : 6, \"domainName\" : \"test6.com\", \"hosting\" : \"cloud.google.com\" },\n",
    "{ \"_id\" : 7, \"domainName\" : \"test7.com\", \"hosting\" : \"aws.amazon.com\" },\n",
    "{ \"_id\" : 8, \"domainName\" : \"test8.com\", \"hosting\" : \"hostgator.com\" },\n",
    "{ \"_id\" : 9, \"domainName\" : \"test9.com\", \"hosting\" : \"cloud.google.com\" },\n",
    "{ \"_id\" : 10,\"domainName\" : \"test10.com\", \"hosting\" : \"godaddy.com\" }"
   ]
  },
  {
   "cell_type": "code",
   "execution_count": 9,
   "metadata": {},
   "outputs": [],
   "source": [
    "import json\n",
    "x = website.insert_many(dico)"
   ]
  },
  {
   "cell_type": "code",
   "execution_count": 14,
   "metadata": {},
   "outputs": [
    {
     "name": "stdout",
     "output_type": "stream",
     "text": [
      "{'_id': 1, 'domainName': 'test1.com', 'hosting': 'hostgator.com'}\n"
     ]
    }
   ],
   "source": [
    "for y in website.find():\n",
    "    pprint(y)"
   ]
  },
  {
   "cell_type": "code",
   "execution_count": 17,
   "metadata": {},
   "outputs": [],
   "source": [
    "repart_site_hebergeur = { \"$group\" : {\"_id\" : \"$hosting\", \"total\" : { \"$sum\" : 1 }} }"
   ]
  },
  {
   "cell_type": "code",
   "execution_count": 20,
   "metadata": {},
   "outputs": [],
   "source": [
    "tri = {\"$sort\" : {\"total\" : -1}}"
   ]
  },
  {
   "cell_type": "code",
   "execution_count": 22,
   "metadata": {},
   "outputs": [],
   "source": [
    "a = website.aggregate( [repart_site_hebergeur, tri] )"
   ]
  },
  {
   "cell_type": "code",
   "execution_count": 31,
   "metadata": {},
   "outputs": [],
   "source": [
    "website_grouped = db_agg[\"website_grouped\"]"
   ]
  },
  {
   "cell_type": "code",
   "execution_count": 32,
   "metadata": {},
   "outputs": [],
   "source": [
    "b =website.aggregate( [repart_site_hebergeur, tri, {\"$out\" : \"website_grouped\"}] )"
   ]
  },
  {
   "cell_type": "code",
   "execution_count": 39,
   "metadata": {},
   "outputs": [
    {
     "name": "stdout",
     "output_type": "stream",
     "text": [
      "{'_id': 'hostgator.com', 'total': 1}\n"
     ]
    }
   ],
   "source": [
    "for c in website_grouped.find():\n",
    "    pprint(c)"
   ]
  },
  {
   "cell_type": "code",
   "execution_count": 55,
   "metadata": {
    "scrolled": true
   },
   "outputs": [
    {
     "name": "stdout",
     "output_type": "stream",
     "text": [
      "Collection(Database(MongoClient(host=['localhost:27017'], document_class=dict, tz_aware=False, connect=True), 'db_agg'), 'website')\n"
     ]
    }
   ],
   "source": [
    "# Q : Combien de sites sont hébergés par amazon ?\n",
    "x = website.aggregate(\n",
    "    [{\n",
    "    \"$match\" : {\"hosting\" : \"aws.amazon.com\"}\n",
    "    },\n",
    "    {\n",
    "    \"$group\" : { \"_id\" : \"$hosting\", \"total\" : { \"$sum\" : 1 } }\n",
    "    }]\n",
    "  )"
   ]
  },
  {
   "cell_type": "markdown",
   "metadata": {},
   "source": [
    "### Exercice  Aggréger des restaurants   "
   ]
  },
  {
   "cell_type": "code",
   "execution_count": 2,
   "metadata": {},
   "outputs": [],
   "source": [
    "import pymongo\n",
    "from pprint import pprint\n",
    "from pymongo import MongoClient\n",
    "client = MongoClient(\"localhost\", 27017) #On se connecte a MongoDB"
   ]
  },
  {
   "cell_type": "code",
   "execution_count": 3,
   "metadata": {},
   "outputs": [],
   "source": [
    "restaurants = client[\"restaurants\"]"
   ]
  },
  {
   "cell_type": "code",
   "execution_count": 4,
   "metadata": {},
   "outputs": [
    {
     "name": "stdout",
     "output_type": "stream",
     "text": [
      "'Argenteuil'\n",
      "'Test'\n",
      "'admin'\n",
      "'config'\n",
      "'db_agg'\n",
      "'local'\n",
      "'metflix'\n",
      "'movies_artists'\n",
      "'restaurants'\n"
     ]
    }
   ],
   "source": [
    "for x in client.list_database_names():\n",
    "    pprint(x)"
   ]
  },
  {
   "cell_type": "code",
   "execution_count": 7,
   "metadata": {},
   "outputs": [],
   "source": [
    "restaurantC = restaurants[\"restaurants\"]"
   ]
  },
  {
   "cell_type": "code",
   "execution_count": 8,
   "metadata": {},
   "outputs": [],
   "source": [
    "# Q : La répartition des restaurants par quartier ?"
   ]
  },
  {
   "cell_type": "code",
   "execution_count": 42,
   "metadata": {},
   "outputs": [],
   "source": [
    "tri = {\"$sort\":{\"_id\":1}}\n",
    "repartition = { \"$group\" : {\"_id\" : \"$borough\", \"total\" : { \"$sum\" : 1 }} }"
   ]
  },
  {
   "cell_type": "code",
   "execution_count": 1,
   "metadata": {},
   "outputs": [
    {
     "ename": "NameError",
     "evalue": "name 'restaurantC' is not defined",
     "output_type": "error",
     "traceback": [
      "\u001b[1;31m---------------------------------------------------------------------------\u001b[0m",
      "\u001b[1;31mNameError\u001b[0m                                 Traceback (most recent call last)",
      "\u001b[1;32m<ipython-input-1-34f38a541754>\u001b[0m in \u001b[0;36m<module>\u001b[1;34m\u001b[0m\n\u001b[1;32m----> 1\u001b[1;33m \u001b[1;32mfor\u001b[0m \u001b[0mx\u001b[0m \u001b[1;32min\u001b[0m \u001b[0mrestaurantC\u001b[0m\u001b[1;33m.\u001b[0m\u001b[0maggregat\u001b[0m\u001b[1;33m(\u001b[0m\u001b[1;33m[\u001b[0m\u001b[0mtri\u001b[0m\u001b[1;33m]\u001b[0m\u001b[1;33m)\u001b[0m\u001b[1;33m:\u001b[0m\u001b[1;33m\u001b[0m\u001b[1;33m\u001b[0m\u001b[0m\n\u001b[0m\u001b[0;32m      2\u001b[0m     \u001b[0mpprint\u001b[0m\u001b[1;33m(\u001b[0m\u001b[0mx\u001b[0m\u001b[1;33m)\u001b[0m\u001b[1;33m\u001b[0m\u001b[1;33m\u001b[0m\u001b[0m\n",
      "\u001b[1;31mNameError\u001b[0m: name 'restaurantC' is not defined"
     ]
    }
   ],
   "source": [
    "for x in restaurantC.aggregat([tri]):\n",
    "    pprint(x)"
   ]
  },
  {
   "cell_type": "code",
   "execution_count": 52,
   "metadata": {},
   "outputs": [
    {
     "name": "stdout",
     "output_type": "stream",
     "text": [
      "{'_id': 'Manhattan', 'total': 83}\n",
      "{'_id': 'Brooklyn', 'total': 56}\n",
      "{'_id': 'Queens', 'total': 47}\n",
      "{'_id': 'Staten Island', 'total': 7}\n",
      "{'_id': 'Bronx', 'total': 27}\n"
     ]
    }
   ],
   "source": [
    "#Le 0 dans grades.0.grade correspond au fait qu'il s'agit de la derniere note, la plus récente\n",
    "\n",
    "# Q : La répartition des restaurants dont la dernière inspection a donné un grade \"C\" par quartier ?\n",
    "note = { \"$match\" : {\"grades.0.grade\" : \"C\" }}\n",
    "projet = { \"$project\": {\"name\": 1,\"_id\":0,\"borough\" : 1}}\n",
    "tri = {\"$sort\":{\"_id\":1}}\n",
    "repartition = { \"$group\" : {\"_id\" : \"$borough\", \"total\" : { \"$sum\" : 1 }} }\n",
    "for x in restaurantC.aggregate([note,tri,repartition]):\n",
    "    pprint(x)"
   ]
  },
  {
   "cell_type": "code",
   "execution_count": 167,
   "metadata": {},
   "outputs": [
    {
     "name": "stdout",
     "output_type": "stream",
     "text": [
      "{'_id': 'Queens', 'moyenne': 11.634865110930088}\n",
      "{'_id': 'Brooklyn', 'moyenne': 11.447723132969035}\n",
      "{'_id': 'Manhattan', 'moyenne': 11.41823125728344}\n",
      "{'_id': 'Staten Island', 'moyenne': 11.370957711442786}\n",
      "{'_id': 'Bronx', 'moyenne': 11.036186099942562}\n",
      "{'_id': 'Missing', 'moyenne': 9.632911392405063}\n"
     ]
    }
   ],
   "source": [
    "# Q : Calculer le score moyen des resto par quartier et trier par score décroissant ?\n",
    "# Indice : utiliser l'opérateur unwid\n",
    "#$avg permet d'obtenir une moyenne\n",
    "Liste_note = {\"$unwind\":\"$grades\"}\n",
    "quartier = { \"$group\" : {\"_id\" : \"$borough\", \"moyenne\" : { \"$avg\" : \"$grades.score\" }} }\n",
    "Tri = {\"$sort\":{\"moyenne\":-1}}\n",
    "for x in restaurantC.aggregate([Liste_note,quartier,Tri]):\n",
    "    pprint(x)"
   ]
  },
  {
   "cell_type": "markdown",
   "metadata": {},
   "source": [
    "###                   Exercice  Aggréger des transactions         #####"
   ]
  },
  {
   "cell_type": "code",
   "execution_count": 121,
   "metadata": {},
   "outputs": [],
   "source": [
    "#Q : Créer une collection \"transactions\" à partir du fichier transactions.json et répondre aux questions suivantes :"
   ]
  },
  {
   "cell_type": "code",
   "execution_count": 56,
   "metadata": {},
   "outputs": [],
   "source": [
    "transactions = restaurants[\"transactions\"]"
   ]
  },
  {
   "cell_type": "code",
   "execution_count": 55,
   "metadata": {},
   "outputs": [
    {
     "name": "stdout",
     "output_type": "stream",
     "text": [
      "{'_id': 'total', 'total': 1200}\n"
     ]
    }
   ],
   "source": [
    "#Q-1. Calculer le montant total des transactions ?\n",
    "#Liste_transac = {\"$unwind\":\"$Transaction\"}\n",
    "#transac = { \"$group\" : {\"_id\" : \"$Name\",\"total\" : { \"$sum\" : \"$Transaction.price\" }} }\n",
    "#tri = {\"$sort\":{\"_id\":1}}\n",
    "#for x in transactions.aggregate([Liste_transac,transac,tri]):\n",
    "#    pprint(x)\n",
    "\n",
    "transac = { \"$group\" : {\"_id\" : \"total\",\"total\" : { \"$sum\" : \"$Payment.Total\" }} }\n",
    "for x in transactions.aggregate([transac]):\n",
    "    pprint(x)"
   ]
  },
  {
   "cell_type": "code",
   "execution_count": 208,
   "metadata": {},
   "outputs": [
    {
     "name": "stdout",
     "output_type": "stream",
     "text": [
      "{'_id': 'Dylan', 'total': 410}\n",
      "{'_id': 'John', 'total': 410}\n",
      "{'_id': 'Margaret', 'total': 410}\n",
      "{'_id': 'Tom', 'total': 410}\n"
     ]
    }
   ],
   "source": [
    "#Q-2. Calculer le montant total par transaction ?\n",
    "Liste_transac = {\"$unwind\":\"$Transaction\"}\n",
    "transac = { \"$group\" : {\"_id\" : \"$Name\",\"total\" : { \"$sum\" : \"$Transaction.price\" }} }\n",
    "tri = {\"$sort\":{\"_id\":1}}\n",
    "for x in transactions.aggregate([Liste_transac,transac,tri]):\n",
    "    pprint(x)"
   ]
  },
  {
   "cell_type": "code",
   "execution_count": 60,
   "metadata": {},
   "outputs": [
    {
     "name": "stdout",
     "output_type": "stream",
     "text": [
      "{'_id': 'Credit-Card', 'total': 800}\n",
      "{'_id': 'Debit-Card', 'total': 400}\n"
     ]
    }
   ],
   "source": [
    "#Q-3. Calculate total payments (Payment.Total) for each payment type (Payment.Type) ?\n",
    "Paiement = {\"$unwind\":\"$Payment\"}\n",
    "Ptotale = { \"$group\" : {\"_id\" : \"$Payment.Type\",\"total\" : { \"$sum\" : \"$Payment.Total\" }} }\n",
    "tri = {\"$sort\":{\"_id\":1}}\n",
    "for x in transactions.aggregate([Paiement,Ptotale,tri]):\n",
    "    pprint(x)\n",
    "#Pas sur que ce soit bon voir la correction"
   ]
  },
  {
   "cell_type": "code",
   "execution_count": 61,
   "metadata": {},
   "outputs": [
    {
     "name": "stdout",
     "output_type": "stream",
     "text": [
      "{'_id': 'Dylan', 'total': 103}\n",
      "{'_id': 'John', 'total': 100}\n",
      "{'_id': 'Margaret', 'total': 102}\n",
      "{'_id': 'Tom', 'total': 101}\n"
     ]
    }
   ],
   "source": [
    "#Q-4. Trouver l'Id le plus élevé.\n",
    "Idtotale = { \"$group\" : {\"_id\" : \"$Name\",\"total\" : { \"$max\" : \"$Id\" }} }\n",
    "tri = {\"$sort\":{\"_id\":1}}\n",
    "for x in transactions.aggregate([Idtotale,tri]):\n",
    "    pprint(x)"
   ]
  },
  {
   "cell_type": "code",
   "execution_count": 193,
   "metadata": {},
   "outputs": [
    {
     "name": "stdout",
     "output_type": "stream",
     "text": [
      "{'_id': 'Dylan', 'total': 210}\n",
      "{'_id': 'John', 'total': 210}\n",
      "{'_id': 'Margaret', 'total': 210}\n",
      "{'_id': 'Tom', 'total': 210}\n"
     ]
    }
   ],
   "source": [
    "#Q-5. Find the max price (Transaction.price) ?\n",
    "Liste_transac = {\"$unwind\":\"$Transaction\"}\n",
    "transac = { \"$group\" : {\"_id\" : \"$Name\",\"total\" : { \"$max\" : \"$Transaction.price\" }} }\n",
    "tri = {\"$sort\":{\"_id\":1}}\n",
    "for x in transactions.aggregate([Liste_transac,transac,tri]):\n",
    "    pprint(x)\n",
    "#Le mieux et d'en afficher un"
   ]
  },
  {
   "cell_type": "markdown",
   "metadata": {},
   "source": [
    "## Distinct"
   ]
  },
  {
   "cell_type": "code",
   "execution_count": null,
   "metadata": {},
   "outputs": [],
   "source": []
  },
  {
   "cell_type": "code",
   "execution_count": null,
   "metadata": {},
   "outputs": [],
   "source": []
  }
 ],
 "metadata": {
  "kernelspec": {
   "display_name": "Python 3",
   "language": "python",
   "name": "python3"
  },
  "language_info": {
   "codemirror_mode": {
    "name": "ipython",
    "version": 3
   },
   "file_extension": ".py",
   "mimetype": "text/x-python",
   "name": "python",
   "nbconvert_exporter": "python",
   "pygments_lexer": "ipython3",
   "version": "3.8.3"
  }
 },
 "nbformat": 4,
 "nbformat_minor": 4
}
